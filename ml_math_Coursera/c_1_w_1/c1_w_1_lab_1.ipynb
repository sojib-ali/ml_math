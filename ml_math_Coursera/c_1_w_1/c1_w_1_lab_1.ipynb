{
 "cells": [
  {
   "cell_type": "code",
   "execution_count": 2,
   "metadata": {},
   "outputs": [],
   "source": [
    "import numpy as np"
   ]
  },
  {
   "cell_type": "markdown",
   "metadata": {},
   "source": [
    "When does it become 3-dimensional?\n",
    "Adding a New Dimension:\n",
    "The array must be reshaped or expanded to have an additional axis. For instance:\n",
    "A 2D array has shape (rows, columns), e.g., (3, 3).\n",
    "A 3D array has shape (depth, rows, columns) or (rows, columns, depth), depending on where the extra dimension is introduced.\n",
    "\n",
    "Using .reshape(): Reshape the array to a 3D shape:"
   ]
  },
  {
   "cell_type": "code",
   "execution_count": 4,
   "metadata": {},
   "outputs": [
    {
     "name": "stdout",
     "output_type": "stream",
     "text": [
      "[[[1 2 3]\n",
      "  [4 5 6]\n",
      "  [7 8 9]]]\n"
     ]
    }
   ],
   "source": [
    "b_two_dimensional_arr = np.array([[1,2,3],[4,5,6],[7,8,9]])\n",
    "b_three_dimensional_arr= b_two_dimensional_arr.reshape(1,3,3)\n",
    "print(b_three_dimensional_arr)"
   ]
  },
  {
   "cell_type": "code",
   "execution_count": 5,
   "metadata": {},
   "outputs": [
    {
     "data": {
      "text/plain": [
       "(1, 3, 3)"
      ]
     },
     "execution_count": 5,
     "metadata": {},
     "output_type": "execute_result"
    }
   ],
   "source": [
    "b_three_dimensional_arr.shape"
   ]
  },
  {
   "cell_type": "markdown",
   "metadata": {},
   "source": [
    "addition, subtraction, multiplication and division"
   ]
  },
  {
   "cell_type": "code",
   "execution_count": 15,
   "metadata": {},
   "outputs": [
    {
     "name": "stdout",
     "output_type": "stream",
     "text": [
      "[ 3  7 11]\n",
      "[1 1 1]\n",
      "[ 2 12 30]\n",
      "[2.         1.33333333 1.2       ]\n"
     ]
    }
   ],
   "source": [
    "arr_1 = np.array([2,4,6])\n",
    "arr_2 = np.array([1,3,5])\n",
    "\n",
    "# addition\n",
    "addition = arr_1 + arr_2\n",
    "print(addition)\n",
    "\n",
    "#subtraction\n",
    "subtrac = arr_1-arr_2\n",
    "print(subtrac)\n",
    "\n",
    "#muliplication\n",
    "multiplication = (arr_1 * arr_2)\n",
    "print(multiplication)\n",
    "\n",
    "#division\n",
    "#muliplication\n",
    "division = (arr_1 / arr_2)\n",
    "print(division)"
   ]
  },
  {
   "cell_type": "code",
   "execution_count": 16,
   "metadata": {},
   "outputs": [
    {
     "name": "stdout",
     "output_type": "stream",
     "text": [
      "[1.6 3.2]\n"
     ]
    }
   ],
   "source": [
    "vector = np.array([1,2])\n",
    "print(vector * 1.6)"
   ]
  },
  {
   "cell_type": "markdown",
   "metadata": {},
   "source": [
    "Indexing"
   ]
  },
  {
   "cell_type": "code",
   "execution_count": 21,
   "metadata": {},
   "outputs": [
    {
     "name": "stdout",
     "output_type": "stream",
     "text": [
      "3\n",
      "8\n"
     ]
    }
   ],
   "source": [
    "in_arr = np.array([1,2,3,4,5])\n",
    "print(in_arr[2])\n",
    "\n",
    "in_two_arr = np.array([[1,2,3],[4,5,6],[7,8,9]])\n",
    "print(in_two_arr[2][1])"
   ]
  },
  {
   "cell_type": "markdown",
   "metadata": {},
   "source": [
    "## Slicing ##"
   ]
  },
  {
   "cell_type": "code",
   "execution_count": 28,
   "metadata": {},
   "outputs": [
    {
     "name": "stdout",
     "output_type": "stream",
     "text": [
      "[2, 3, 4]\n",
      "[1, 2, 3]\n",
      "[3, 4, 5]\n",
      "[1, 3, 5]\n",
      "True\n"
     ]
    }
   ],
   "source": [
    "sl_arr = ([1,2,3,4,5])\n",
    "sliced_arr = sl_arr[1:4]\n",
    "print(sliced_arr)\n",
    "\n",
    "sliced_arr = sl_arr[:3]\n",
    "print(sliced_arr)\n",
    "\n",
    "sliced_arr = sl_arr[2:]\n",
    "print(sliced_arr)\n",
    "\n",
    "sliced_arr = sl_arr[::2]\n",
    "print(sliced_arr)\n",
    "\n",
    "print(sl_arr == sl_arr[:] == sl_arr[::])"
   ]
  },
  {
   "cell_type": "markdown",
   "metadata": {},
   "source": [
    "# slicing two dimensional array #"
   ]
  },
  {
   "cell_type": "code",
   "execution_count": 36,
   "metadata": {},
   "outputs": [],
   "source": [
    "sl_two_dim = np.array(([1, 2, 3], [4,5,6], [7,8,9]))"
   ]
  },
  {
   "cell_type": "code",
   "execution_count": 42,
   "metadata": {},
   "outputs": [
    {
     "name": "stdout",
     "output_type": "stream",
     "text": [
      "[[1 2 3]\n",
      " [4 5 6]]\n",
      "[[4 5 6]]\n",
      "[2 5]\n"
     ]
    }
   ],
   "source": [
    "sl_two_dim=sl_two_dim[0:2]\n",
    "print(sl_two_dim)\n",
    "\n",
    "slice_two_dim=sl_two_dim[1:3]\n",
    "print(slice_two_dim)\n",
    "\n",
    "slice_two_dim_cols = sl_two_dim[:, 1]\n",
    "print(slice_two_dim_cols)"
   ]
  },
  {
   "cell_type": "code",
   "execution_count": null,
   "metadata": {},
   "outputs": [],
   "source": []
  },
  {
   "cell_type": "code",
   "execution_count": null,
   "metadata": {},
   "outputs": [],
   "source": []
  }
 ],
 "metadata": {
  "kernelspec": {
   "display_name": "mlv",
   "language": "python",
   "name": "python3"
  },
  "language_info": {
   "codemirror_mode": {
    "name": "ipython",
    "version": 3
   },
   "file_extension": ".py",
   "mimetype": "text/x-python",
   "name": "python",
   "nbconvert_exporter": "python",
   "pygments_lexer": "ipython3",
   "version": "3.10.12"
  }
 },
 "nbformat": 4,
 "nbformat_minor": 2
}
